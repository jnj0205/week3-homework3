{
 "cells": [
  {
   "cell_type": "code",
   "execution_count": null,
   "id": "86bbe0d1",
   "metadata": {},
   "outputs": [],
   "source": [
    "Create a python wrapper for the Pokemon API. It should take in a pokemon name and display the pokemon with its height and weight"
   ]
  },
  {
   "cell_type": "code",
   "execution_count": 2,
   "id": "1f16cb4f",
   "metadata": {},
   "outputs": [
    {
     "name": "stdout",
     "output_type": "stream",
     "text": [
      "<module 'requests' from '/Users/jurgita/anaconda3/lib/python3.10/site-packages/requests/__init__.py'>\n"
     ]
    }
   ],
   "source": [
    "import requests\n",
    "print(requests)"
   ]
  },
  {
   "cell_type": "code",
   "execution_count": 3,
   "id": "458e387e",
   "metadata": {},
   "outputs": [
    {
     "name": "stdout",
     "output_type": "stream",
     "text": [
      "4 is your pokemons height and 60 is how much your pokemon weighs\n"
     ]
    }
   ],
   "source": [
    "def pokemon(name):\n",
    "    poke_res = requests.get(f\"https://pokeapi.co/api/v2/pokemon/{name}\")\n",
    "    data = poke_res.json()\n",
    "    height = data[\"height\"]\n",
    "    weight = data[\"weight\"]\n",
    "    return f'{height} is your pokemons height and {weight} is how much your pokemon weighs'\n",
    "    \n",
    "print(pokemon(\"pikachu\"))"
   ]
  },
  {
   "cell_type": "code",
   "execution_count": null,
   "id": "ae14cd13",
   "metadata": {},
   "outputs": [],
   "source": []
  }
 ],
 "metadata": {
  "kernelspec": {
   "display_name": "Python 3 (ipykernel)",
   "language": "python",
   "name": "python3"
  },
  "language_info": {
   "codemirror_mode": {
    "name": "ipython",
    "version": 3
   },
   "file_extension": ".py",
   "mimetype": "text/x-python",
   "name": "python",
   "nbconvert_exporter": "python",
   "pygments_lexer": "ipython3",
   "version": "3.10.9"
  }
 },
 "nbformat": 4,
 "nbformat_minor": 5
}
