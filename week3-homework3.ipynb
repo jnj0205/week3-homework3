{
 "cells": [
  {
   "cell_type": "code",
   "execution_count": null,
   "id": "86bbe0d1",
   "metadata": {},
   "outputs": [],
   "source": [
    "Create a python wrapper for the Pokemon API. It should take in a pokemon name and display the pokemon with its height and weight"
   ]
  },
  {
   "cell_type": "code",
   "execution_count": null,
   "id": "458e387e",
   "metadata": {},
   "outputs": [],
   "source": [
    "class PokiAPI:\n",
    "    \n",
    "    def __init__(self,name, height, weight):\n",
    "        self.base_url = 'https://pokeapi.co/api/v2/pokemon/'\n",
    "        self.name = name\n",
    "        self.height = height\n",
    "        self.weight = weight\n",
    "        \n",
    "    def get_my_poki(self, pokemon):\n",
    "        data = self._get(pokemon)\n",
    "        display_name = f\"{data['name']}\"\n",
    "        display_height = data['height']\n",
    "        display_weight = data['weight']\n",
    "        \n",
    "    \n",
    "        print(f\"This is {dispay_name} and {display_height} {display_weight}\")\n",
    "        \n",
    "pokiAPI.get_display_name        \n",
    "        "
   ]
  }
 ],
 "metadata": {
  "kernelspec": {
   "display_name": "Python 3 (ipykernel)",
   "language": "python",
   "name": "python3"
  },
  "language_info": {
   "codemirror_mode": {
    "name": "ipython",
    "version": 3
   },
   "file_extension": ".py",
   "mimetype": "text/x-python",
   "name": "python",
   "nbconvert_exporter": "python",
   "pygments_lexer": "ipython3",
   "version": "3.10.9"
  }
 },
 "nbformat": 4,
 "nbformat_minor": 5
}
